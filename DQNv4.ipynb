{
 "cells": [
  {
   "cell_type": "markdown",
   "metadata": {},
   "source": [
    "# Introduction to solving Atari games with DQN"
   ]
  },
  {
   "cell_type": "markdown",
   "metadata": {},
   "source": [
    "This notebook covers the basic implementation of agents interacting with Atari games through GYM toolkit. There are three agent implemented in this notebook: Random agent, Human Agent and DQN. "
   ]
  },
  {
   "cell_type": "markdown",
   "metadata": {},
   "source": [
    "## Table of contents\n",
    "1. [Prerequisites](#Prerequisites)\n",
    "\t1. [Packages](#Packages)\n",
    "\t2. [Notebook configuration](#NotebookConfiguration)\n",
    "2. [Atari Environments](#AtariEnvironments)\n",
    "3. [Random Agent in Atari Environments](#RandomAgent)\n",
    "3. [Human interaction in Atari Environments](#HumanInteraction)\n",
    "4. [DQN in Atari Environments](#DQN)\n",
    "\t1. [Hyperparameters Configuration](#Hyperparameters)\n",
    "\t2. [Preprocessing](#Preprocessing)\n",
    "\t3. [Experience Replay Memory](#ExperienceReplay)\n",
    "\t4. [Epsilon Greedy action selection](#EpsilonGreedy)\n",
    "\t5. [Q and Q_Target Neural Networks](#QandQ_Target)\n",
    "\t6. [Network Fitting](#NetworkFitting)\n"
   ]
  },
  {
   "cell_type": "markdown",
   "metadata": {},
   "source": [
    "# 1. Prerequisites <a name=\"Prerequisites\"></a>"
   ]
  },
  {
   "cell_type": "markdown",
   "metadata": {},
   "source": [
    "## 1.1 Packages<a name=\"Packages\"></a>\n",
    "Prior to running this code the following packages need to be installed. This can take some time:"
   ]
  },
  {
   "cell_type": "code",
   "execution_count": 1,
   "metadata": {},
   "outputs": [],
   "source": [
    "%%capture\n",
    "!pip install gym[atari];\n",
    "!pip install tensorflow;\n",
    "!pip install keras;\n",
    "!conda install --yes --prefix {sys.prefix} opencv;"
   ]
  },
  {
   "cell_type": "markdown",
   "metadata": {},
   "source": [
    "There might be a scenario where upon importing tensorflow the interpreter crashes. If this happens, try installing older version of tensorflow or seek help online. I have experienced issues with pip's Tensorflow v1.13.0 on AMD CPU, which were resolved by using v1.12.0 from conda (v1.12.0 not available on pip).\n",
    "\n",
    "To use GPU accelerated version of tensorflow, uninstall tensorflow package and install package called <b>tensorflow-gpu</b>"
   ]
  },
  {
   "cell_type": "markdown",
   "metadata": {},
   "source": [
    "## 1.2 Notebook configuration<a name=\"NotebookConfiguration\"></a>\n",
    "Rendering the frames might not be possible due to lack of display drivers. This is usually true when using clusters or services such as Google Colab. If there is no display driver installed, set ALLOW_RENDERING to False.\n",
    "\n",
    "When running the code through standard Python interpreter rather than IPython, disable inline graph rendering."
   ]
  },
  {
   "cell_type": "code",
   "execution_count": 2,
   "metadata": {},
   "outputs": [],
   "source": [
    "ALLOW_RENDERING = True\n",
    "ALLOW_INLINE = True"
   ]
  },
  {
   "cell_type": "markdown",
   "metadata": {},
   "source": [
    "# 2. Atari Environments<a name=\"AtariEnvironments\"></a>"
   ]
  },
  {
   "cell_type": "markdown",
   "metadata": {},
   "source": [
    "There are multiple games in different configurations. Run the code below to  print all availible Atari games and their configurations <b>(The two lines are commented out due to a very long output)</b>: "
   ]
  },
  {
   "cell_type": "code",
   "execution_count": 3,
   "metadata": {},
   "outputs": [
    {
     "name": "stdout",
     "output_type": "stream",
     "text": [
      "There are  797 configurations of different environments\n"
     ]
    }
   ],
   "source": [
    "from gym import envs\n",
    "envids = [spec.id for spec in envs.registry.all()]\n",
    "print(\"There are \", len(envids), \"configurations of different environments\")\n",
    "\n",
    "#UNCOMMENT THE LINES BELOW TO PRINT OUT THE ENVIRONMENT NAMES\n",
    "#for envid in sorted(envids):\n",
    "#    print(envid)"
   ]
  },
  {
   "cell_type": "markdown",
   "metadata": {},
   "source": [
    "Most Atari environments have 12 different configurations. Throughout this notebook <b>Pong</b> environment will be used. In case of environment configurations, Pong, like many other environments has the following configurations:\n",
    "\n",
    "| Pixel | Ram | Explanation |\n",
    "|:---|:---|:---:|\n",
    "|Pong-v0|Pong-ram-v0| repeat_action_probability of 0.25 (meaning 25% of the time the previous action will be used instead of the new action |\n",
    "|Pong-v4|Pong-ram-v4| probability of 0 to select non-issued action (always follow your issued action) |\n",
    "|PongDeterministic-v0|Pong-ramDeterministic-v0| a fixed frameskip of 4, while for the env without Deterministic, frameskip is sampled from (2,5) |\n",
    "|PongDeterministic-v4|Pong-ramDeterministic-v4| --- |\n",
    "|PongNoFrameskip-v0|Pong-ramNoFrameskip-v0| no frame skip nor stochastic action repeat. |\n",
    "|PongNoFrameskip-v4|Pong-ramNoFrameskip-v4| --- |\n",
    "\n",
    "By default the observation returned are a 3D RGB pixel array, whereas RAM  observations return the state of the game from RAM. This notebook uses Pixel observations."
   ]
  },
  {
   "cell_type": "markdown",
   "metadata": {},
   "source": [
    "The first step when creating the environment is to create an environment for a specific game with <b>gym.make(\"Environment)Configuration_Name\")</b>.\n",
    "This returns an instance of the environment which will be used to interact with the game.\n",
    "\n",
    "The environment is initialized with <b>env.reset()</b> which returns an initial observation, which is a 3D array of RGB pixel values.\n",
    "\n",
    "We can render the current state of the environment with <b>env.render()</b>"
   ]
  },
  {
   "cell_type": "code",
   "execution_count": 4,
   "metadata": {},
   "outputs": [],
   "source": [
    "import gym\n",
    "\n",
    "env = gym.make(\"PongDeterministic-v4\")\n",
    "observation = env.reset()\n",
    "ALLOW_RENDERING and env.render();"
   ]
  },
  {
   "attachments": {
    "image.png": {
     "image/png": "[encoded data removed]"
    }
   },
   "cell_type": "markdown",
   "metadata": {},
   "source": [
    "![image.png](attachment:image.png)\n",
    "Running the code above should load a window like shown above.\n",
    "Use <b>env.close()</b> to close the environment (exit button does not work)."
   ]
  },
  {
   "cell_type": "code",
   "execution_count": 5,
   "metadata": {},
   "outputs": [],
   "source": [
    "env.close()"
   ]
  },
  {
   "attachments": {},
   "cell_type": "markdown",
   "metadata": {},
   "source": [
    "# Random Agent in Atari Environments<a name=\"RandomAgent\"></a>"
   ]
  },
  {
   "attachments": {
    "image.png": {
     "image/png": "[encoded data removed]"
    }
   },
   "cell_type": "markdown",
   "metadata": {},
   "source": [
    "To interact with the environment lets simply take some action and observe the environment. We will implement the classic agent-environment loop shown below:\n",
    "![image.png](attachment:image.png)"
   ]
  },
  {
   "cell_type": "markdown",
   "metadata": {},
   "source": [
    "First, create a variable which will keep track of cumulative game score observed. Each observation returns a reward, usually +-1, 0 or 1. We sum the rewards received from all observations and store the final score in <b>game_score</b>. The goal of the game is to maximise this score before the terminal state.\n",
    "\n",
    "Next we create a loop which will be used to allow the agent to continously interact with the environemnt at random. GYM function <b>env.action_space.sample()</b> selects a random action from environments action space, which varies in length depending on a game. <b>env.step(action)</b> executes the action and observes the environment. It returns 4 variables: <b>observation, reward, done, info</b>.\n",
    "\n",
    "In the case of atari games, the four variables are of the following:\n",
    "\n",
    "<b>observation</b> is a (210, 160, 3) shape which represents atari screen which is 210 x 160 pixels RGB\n",
    "\n",
    "<b>reward</b> - reward for a specific action-observation\n",
    "\n",
    "<b>done</b> - whether the state was terminal\n",
    "\n",
    "<b>done</b> - whether the state was terminal\n",
    "\n",
    "\n",
    "Finally, the reward for taking the action is cumulated, and the loop checks whether episode is terminal.\n"
   ]
  },
  {
   "cell_type": "code",
   "execution_count": 6,
   "metadata": {},
   "outputs": [
    {
     "name": "stdout",
     "output_type": "stream",
     "text": [
      "No of steps: 910 Game score: -21.0\n"
     ]
    }
   ],
   "source": [
    "import gym\n",
    "env = gym.make(\"PongDeterministic-v4\")\n",
    "observation = env.reset()\n",
    "\n",
    "game_score = 0;\n",
    "\n",
    "for steps in range(int(1e6)):\n",
    "    action = env.action_space.sample()\n",
    "    observation, reward, done, info = env.step(action)\n",
    "\n",
    "    ALLOW_RENDERING and env.render()\n",
    "\n",
    "    game_score += reward\n",
    "        \n",
    "    if(done):\n",
    "        print(\"No of steps:\", steps, \"Game score:\", game_score )\n",
    "        break;      "
   ]
  },
  {
   "attachments": {
    "image.png": {
     "image/png": "[encoded data removed]"
    }
   },
   "cell_type": "markdown",
   "metadata": {},
   "source": [
    "Running the code above should display the rendering of the atari game playing:\n",
    "![image.png](attachment:image.png)\n",
    "Close the environment."
   ]
  },
  {
   "cell_type": "code",
   "execution_count": 7,
   "metadata": {},
   "outputs": [],
   "source": [
    "env.close()"
   ]
  },
  {
   "cell_type": "markdown",
   "metadata": {},
   "source": [
    "Note, even though we run the simulation 1 million times, it finishes much sooner depending on the game, e.g. after 1000 steps,  since this is how for many frames our agent can play before reaching the terminal state, which in case of atari games is usually running out of lives. The loop terminates when the agent reaches terminal state. <s>Often agent is capped to X number of frames to prevent degenerate startegies, e.g. Tennis, where agent can learn a strategy of not serving the ball in order to maximise its score, which would cause the game to never terminate.</s> <- This is true but done differently, put it somewhere else."
   ]
  },
  {
   "cell_type": "markdown",
   "metadata": {},
   "source": [
    "The rendering in this loop runs as fast as possible, usually it can achieve 500+ fps, making it impossible for a human eye to observe in detail whats happening. To slow down the rendering use sleep(0.033). If action selection would require more computation, e.g best action is approximated with a Neural Network, the rendering will slow down (GPU accelerated is around 200 FPS)."
   ]
  },
  {
   "cell_type": "markdown",
   "metadata": {},
   "source": [
    "# Human interaction in Atari Environments<a name=\"HumanInteraction\"></a>"
   ]
  },
  {
   "cell_type": "markdown",
   "metadata": {},
   "source": [
    "Open AI Gym contains an utility which allows human players to play the game to better understand its mechanics.\n",
    "Editing gym.make() argument with the name and configuration you wish to play, e.g Pong or MsPacman.\n",
    "Usually the controlls are WASD and space."
   ]
  },
  {
   "cell_type": "code",
   "execution_count": 8,
   "metadata": {
    "code_folding": [],
    "scrolled": false
   },
   "outputs": [
    {
     "name": "stdout",
     "output_type": "stream",
     "text": [
      "pygame 1.9.4\n",
      "Hello from the pygame community. https://www.pygame.org/contribute.html\n",
      "(480, 630)\n"
     ]
    }
   ],
   "source": [
    "def humanAgent():\n",
    "    from gym.utils.play import play\n",
    "    env = gym.make('MsPacmanNoFrameskip-v4')\n",
    "    play(env, zoom=3, fps=60)\n",
    "    \n",
    "ALLOW_RENDERING and humanAgent();"
   ]
  },
  {
   "attachments": {
    "image.png": {
     "image/png": "[encoded data removed]"
    }
   },
   "cell_type": "markdown",
   "metadata": {},
   "source": [
    "If ALLOW_RENDERING is set to True a new window should appear which will allow human player to play Atari games.\n",
    "![image.png](attachment:image.png)"
   ]
  },
  {
   "cell_type": "markdown",
   "metadata": {},
   "source": [
    "# DQN in Atari Environments<a name=\"DQN\"></a>\n",
    "The two previous implementations allowed agent to interact with the environment by taking a random action, or allowed human game controll. DQN uses Deep Neural Network to approximate Q-function, which returns the best action to take from the observed state."
   ]
  },
  {
   "cell_type": "markdown",
   "metadata": {},
   "source": [
    "## Hyperparameters Configuration<a name=\"Hyperparameters\"></a>"
   ]
  },
  {
   "cell_type": "markdown",
   "metadata": {},
   "source": [
    "Those are the original hyperparameters as they appeared in the original DQN paper"
   ]
  },
  {
   "cell_type": "code",
   "execution_count": 9,
   "metadata": {},
   "outputs": [],
   "source": [
    "MINIBATCH_SIZE = 32\n",
    "REPLAY_SIZE = 1000000\n",
    "REPLAY_START_SIZE = 50000\n",
    "AGENT_HISTORY_LENGTH = 4\n",
    "TARGET_NETWORK_UPDATE_FREQ = 10000\n",
    "GAMMA = 0.99\n",
    "ACTION_REPEAT = 4\n",
    "UPDATE_FREQ = 4\n",
    "LEARNING_RATE = 0.00025\n",
    "GRADIENT_MOMENTUM = 0.95\n",
    "MIN_SQUARED_GRADIENT = 0.01\n",
    "Epsilon_MAX = 1\n",
    "Epsilon_MIN = 0.1\n",
    "FINAL_EPLORATION_FRAME = 1000000\n",
    "NO_OP_MAX = 30"
   ]
  },
  {
   "cell_type": "markdown",
   "metadata": {},
   "source": [
    "## Utilities\n",
    "Simple helper functions"
   ]
  },
  {
   "cell_type": "code",
   "execution_count": 10,
   "metadata": {},
   "outputs": [],
   "source": [
    "%matplotlib inline\n",
    "import matplotlib.pyplot as plt\n",
    "\n",
    "def showFrame(observation):\n",
    "    plt.imshow(observation)\n",
    "    plt.show()\n",
    "    \n",
    "def initEnvironment(envName='PongDeterministic-v4'):\n",
    "    env = gym.make(envName)\n",
    "    actionCount = env.action_space.n\n",
    "    state = env.reset()    \n",
    "    return env, state, actionCount;"
   ]
  },
  {
   "cell_type": "markdown",
   "metadata": {},
   "source": [
    "## Preprocessing<a name=\"Preprocessing\"></a>\n",
    "This implementation of DQN learns from visual data. Raw atari data frames are 210 x 160 pixel images with 128 colours. To reduce memory and computation requirements the images are preprocessed.\n",
    "Atari games contain a flickering where some objects appear only in even frames and some only in odd frames, which was due to limited number of Sprites Atari console could display at once.\n",
    "To encode a single frame take the maximum value for each pixel value over the frame baing encoded and the previous frame. \n",
    "Next, the luminance value is extracted from RGB and rescaled to 84 x 84.\n",
    "This preprocessing is applied to m most recent frames, 4 in case of the orginal paper. The frames are then stacked and fed into the Q-function."
   ]
  },
  {
   "cell_type": "markdown",
   "metadata": {},
   "source": [
    "NOTE: STEP BELOW DOES NOT EXTRACT MAXIMUM PIXEL VALUE FROM CURRENT AND PREVIOUS FRAME TO REMOVE FLICKERING (not implemented yet)"
   ]
  },
  {
   "cell_type": "code",
   "execution_count": null,
   "metadata": {},
   "outputs": [],
   "source": []
  },
  {
   "cell_type": "code",
   "execution_count": 11,
   "metadata": {},
   "outputs": [],
   "source": [
    "import cv2\n",
    "import numpy as np\n",
    "def preprocess(observation):\n",
    "    res = cv2.resize(observation, (84, 84), interpolation=cv2.INTER_NEAREST )\n",
    "    r, g, b = res[:,:,0], res[:,:,1], res[:,:,2]\n",
    "    lum = 0.2126 * r + 0.7152 * g + 0.0722 * b# extract Relative_luminance\n",
    "    return lum.astype('float32') / 128 - 1    # normalize, there is a bettwe way I think"
   ]
  },
  {
   "cell_type": "markdown",
   "metadata": {},
   "source": [
    "Plot one original frame and one after preprocessing tp see how it is affected."
   ]
  },
  {
   "cell_type": "code",
   "execution_count": 12,
   "metadata": {},
   "outputs": [
    {
     "name": "stdout",
     "output_type": "stream",
     "text": [
      "Before processing: (210, 160, 3)\n"
     ]
    },
    {
     "data": {
      "image/png": "[encoded data removed]",
      "text/plain": [
       "<Figure size 432x288 with 1 Axes>"
      ]
     },
     "metadata": {
      "needs_background": "light"
     },
     "output_type": "display_data"
    },
    {
     "name": "stdout",
     "output_type": "stream",
     "text": [
      "After processing: (84, 84)\n"
     ]
    },
    {
     "data": {
      "image/png": "[encoded data removed]",
      "text/plain": [
       "<Figure size 432x288 with 1 Axes>"
      ]
     },
     "metadata": {
      "needs_background": "light"
     },
     "output_type": "display_data"
    }
   ],
   "source": [
    "env, state, actionCount = initEnvironment()\n",
    "observation, reward, done, info = env.step(0)\n",
    "\n",
    "print(\"Before processing: \" + str(np.array(observation).shape))\n",
    "showFrame(observation)\n",
    "\n",
    "newObservation = preprocess(observation)\n",
    "print(\"After processing: \" + str(np.array(newObservation).shape))\n",
    "showFrame(newObservation)"
   ]
  },
  {
   "cell_type": "markdown",
   "metadata": {},
   "source": [
    "Stack n last frames which will form the input to the NN. n = AGENT_HISTORY_LENGTH"
   ]
  },
  {
   "cell_type": "code",
   "execution_count": 13,
   "metadata": {},
   "outputs": [],
   "source": [
    "def stack_frames(i, i2,memory):\n",
    "    return memory[i] + memory[i2]"
   ]
  },
  {
   "cell_type": "markdown",
   "metadata": {},
   "source": [
    "## Experience Replay Memory<a name=\"ExperienceReplay\"></a>"
   ]
  },
  {
   "cell_type": "markdown",
   "metadata": {},
   "source": [
    "At the start we wasnt to record N ammount of obserwations which will be randomly sampled for weights updates later on.\n",
    "On 50k frames it takes the last method around 30s on the cluster."
   ]
  },
  {
   "cell_type": "code",
   "execution_count": 14,
   "metadata": {},
   "outputs": [],
   "source": [
    "#Step in the environment and observe the next state. \n",
    "#Record in memory and return s, a, r, s'\n",
    "def step(action, state):\n",
    "    observation, reward, done, info = env.step(action)\n",
    "    nextState = preprocess(observation)\n",
    "    \n",
    "    memory.append([np.array(state, ndmin = 2), action, reward, np.array(nextState, ndmin=2)])\n",
    "        \n",
    "    #If done, we need to reset the environment so that it continues to run\n",
    "    if done:\n",
    "        #Append the terminal state\n",
    "        #Check if the next state should be the terminal state (loop to itself)\n",
    "        memory.append([ np.array(nextState, ndmin=2), action, reward,  np.array(None, ndmin=2)])\n",
    "        state = env.reset()\n",
    "        state = preprocess(state)\n",
    "        #Increase i to account for additional state. DOESN'T WORK in PYTHON\n",
    "    return state, action, reward, nextState, done"
   ]
  },
  {
   "cell_type": "code",
   "execution_count": 15,
   "metadata": {},
   "outputs": [
    {
     "name": "stdout",
     "output_type": "stream",
     "text": [
      "Initializing Memory of size 1000000 with 50000 initial states. This could take some time.\n",
      "Finished adding 50000 states in 50.92798352241516 seconds.\n",
      "\n"
     ]
    }
   ],
   "source": [
    "import collections\n",
    "import time\n",
    "\n",
    "memory = collections.deque(maxlen=REPLAY_SIZE)\n",
    "\n",
    "env, state, actionCount = initEnvironment()\n",
    "#the state after reset is the first state, eveything next is next state, which for next observation\n",
    "#becomes the current state and so on\n",
    "state = preprocess(state)\n",
    "\n",
    "print(\"Initializing Memory of size\", REPLAY_SIZE, \"with\", REPLAY_START_SIZE, \"initial states. This could take some time.\")\n",
    "start = time.time()\n",
    "\n",
    "# Since we have no controll over i when using for i in ... loop there is usually more\n",
    "# I dont think impacts much, maybe in some games? E.g Pong tends to have ~50 samples more, MsPacman ~100\n",
    "for i in range(REPLAY_START_SIZE):\n",
    "    #Take a random action in initialization phase\n",
    "    action = env.action_space.sample()    \n",
    "    state, action, reward, nextState, done = step( action, state)\n",
    "    state = nextState\n",
    "\n",
    "end = time.time()\n",
    "\n",
    "print(\"Finished adding\", REPLAY_START_SIZE, \"states in\", (end - start), \"seconds.\\n\")"
   ]
  },
  {
   "cell_type": "code",
   "execution_count": 16,
   "metadata": {},
   "outputs": [],
   "source": [
    "# If we simply add frames there is a bug? where the non-static environment \n",
    "# I wonder if this could have an use to remove the moving environment by summing x frames e.g. \n",
    "#multiFrame = memory[0][0]\n",
    "#for i in range(1, 100):\n",
    "#    multiFrame = multiFrame + memory[i][0]\n",
    "#    showFrame(multiFrame)\n",
    "# Would it be usefull to apply decay rate to older frames so that there is a trajectory of the dynamic environments with the oldest state being the most dim and the new state being the brightest?\n",
    "#Fun thing to test once everything is running\n",
    "#for i in range(1, 4):\n",
    "#    showFrame(memory[i][0])"
   ]
  },
  {
   "cell_type": "markdown",
   "metadata": {},
   "source": [
    "Sample MINIBATCH_SIZE from experience replay\n",
    "\n",
    "There is something wrong in the way objects are stored in the buffer\n",
    "\n",
    "When trying to selct appropriate columns I get (32, ) instead of (32, 84, 84)"
   ]
  },
  {
   "cell_type": "code",
   "execution_count": 17,
   "metadata": {},
   "outputs": [],
   "source": [
    "#Return \n",
    "import random\n",
    "def sampleRandom():\n",
    "    return np.array(random.sample(memory, 32))\n",
    "   "
   ]
  },
  {
   "cell_type": "markdown",
   "metadata": {},
   "source": [
    "Print 5 frames to see how they look like:"
   ]
  },
  {
   "cell_type": "code",
   "execution_count": 18,
   "metadata": {},
   "outputs": [
    {
     "data": {
      "image/png": "[encoded data removed]",
      "text/plain": [
       "<Figure size 432x288 with 1 Axes>"
      ]
     },
     "metadata": {
      "needs_background": "light"
     },
     "output_type": "display_data"
    },
    {
     "data": {
      "image/png": "[encoded data removed]",
      "text/plain": [
       "<Figure size 432x288 with 1 Axes>"
      ]
     },
     "metadata": {
      "needs_background": "light"
     },
     "output_type": "display_data"
    },
    {
     "data": {
      "image/png": "[encoded data removed]",
      "text/plain": [
       "<Figure size 432x288 with 1 Axes>"
      ]
     },
     "metadata": {
      "needs_background": "light"
     },
     "output_type": "display_data"
    }
   ],
   "source": [
    "batch = sampleRandom()\n",
    "for i, sample in enumerate(batch):\n",
    "    if i >= 3:\n",
    "        break\n",
    "    showFrame(sample[0])"
   ]
  },
  {
   "cell_type": "markdown",
   "metadata": {},
   "source": [
    "### Epsilon Greedy action selection<a name=\"EpsilonGreedy\"></a>"
   ]
  },
  {
   "cell_type": "code",
   "execution_count": 19,
   "metadata": {},
   "outputs": [],
   "source": [
    "#Check whether this is correct\n",
    "def epsilon(i):\n",
    "    if i >= FINAL_EPLORATION_FRAME:\n",
    "        return Epsilon_MIN\n",
    "    return Epsilon_MAX - ((Epsilon_MAX - Epsilon_MIN) / FINAL_EPLORATION_FRAME) * i\n",
    "\n",
    "#Choose random action with epislon probability or the best action\n",
    "def takeAction(state, i):\n",
    "    if random.random() < epsilon(i):\n",
    "        return random.randint(0, env.action_space.n - 1)\n",
    "    else:\n",
    "        #Max greedy action\n",
    "        return np.argmax(Q.predict(state.reshape(1, 84, 84)))\n",
    "        #Use NN to approx which action returns the highest return"
   ]
  },
  {
   "cell_type": "markdown",
   "metadata": {},
   "source": [
    "## Q and Q_Target Neural Networks<a name=\"QandQ_Target\"></a>\n",
    "DQN's input is the state representation, in case of atari games 84 x 84 x 4 image, and the output is the Action space, with separate unit for each of the possible action, which in case of Atari games is between 4 and 18 actions.\n",
    "\n",
    "The architecture is as follows:\n",
    "\n",
    "Convolutional Neural Network is used\n",
    "Its input is 4 stacked frames,  unrolled into a 84 x 84 x 4 image produced by the preprocessing step. The first hidden layer convolves 32 filters of 8 x 8 with stride 4 with the input image and applies a rectifier nonlinearity. The second hidden layer convolves 64 filters of 4 x 4 with stride 2, again followed by a rectifier nonlinearity.\n",
    "This is followed by a third convolutional layer that convolves 64 filters of 3 x 3 with stride 1 followed by a rectifier. The final hidden layer is fully-connected and consists of 512 rectifier units. The output layer is a fully-connected linear layer with a single output for each valid action. The number of valid actions varied between 4 and 18."
   ]
  },
  {
   "cell_type": "markdown",
   "metadata": {},
   "source": [
    "Here we define the two neural networks which will be used "
   ]
  },
  {
   "cell_type": "code",
   "execution_count": 20,
   "metadata": {
    "scrolled": true
   },
   "outputs": [
    {
     "name": "stderr",
     "output_type": "stream",
     "text": [
      "Using TensorFlow backend.\n"
     ]
    },
    {
     "name": "stdout",
     "output_type": "stream",
     "text": [
      "WARNING:tensorflow:From C:\\Users\\Przemek\\Anaconda3\\lib\\site-packages\\tensorflow\\python\\framework\\op_def_library.py:263: colocate_with (from tensorflow.python.framework.ops) is deprecated and will be removed in a future version.\n",
      "Instructions for updating:\n",
      "Colocations handled automatically by placer.\n",
      "WARNING:tensorflow:From C:\\Users\\Przemek\\Anaconda3\\lib\\site-packages\\tensorflow\\python\\ops\\math_ops.py:3066: to_int32 (from tensorflow.python.ops.math_ops) is deprecated and will be removed in a future version.\n",
      "Instructions for updating:\n",
      "Use tf.cast instead.\n"
     ]
    },
    {
     "name": "stderr",
     "output_type": "stream",
     "text": [
      "C:\\Users\\Przemek\\Anaconda3\\lib\\site-packages\\keras\\engine\\sequential.py:110: UserWarning: `Sequential.model` is deprecated. `Sequential` is a subclass of `Model`, you can just use your `Sequential` instance directly.\n",
      "  warnings.warn('`Sequential.model` is deprecated. '\n"
     ]
    }
   ],
   "source": [
    "from keras.models import Sequential\n",
    "from keras.layers import Dense, Convolution1D, Flatten\n",
    "from keras.optimizers import RMSprop\n",
    "from keras.utils import np_utils\n",
    "\n",
    "Q = Sequential([\n",
    "    Convolution1D(32, (8), strides=(4), activation='relu'),\n",
    "    Convolution1D(64, (4), strides=(2), activation='relu'),\n",
    "    Convolution1D(64, (3), activation='relu'),\n",
    "    Flatten(),\n",
    "    Dense(units=512, activation='relu', input_shape=(512,1)),\n",
    "    Dense(units=actionCount, activation='linear', input_shape=(512,1))\n",
    "])\n",
    "\n",
    "Q.compile(loss='mse', optimizer=RMSprop(lr=0.00025),\n",
    "              metrics=['accuracy'])\n",
    "\n",
    "batch = sampleRandom()\n",
    "#batch values need to be converted to one hot vector\n",
    "states = np.array([ o[0] for o in batch ])\n",
    "rewards = np.array([ o[2] for o in batch ])\n",
    "\n",
    "rewards = np_utils.to_categorical(rewards, num_classes=actionCount)\n",
    "\n",
    "Q.fit(states, rewards, epochs=1, verbose=0)\n",
    "\n",
    "Q_hat = Sequential([\n",
    "    Convolution1D(32, (8), strides=(4), activation='relu'),\n",
    "    Convolution1D(64, (4), strides=(2), activation='relu'),\n",
    "    Convolution1D(64, (3), activation='relu'),\n",
    "    Flatten(),\n",
    "    Dense(units=512, activation='relu', input_shape=(512,1)),\n",
    "    Dense(units=actionCount, activation='linear', input_shape=(512,1))\n",
    "])\n",
    "\n",
    "Q_hat.compile(loss='mse', optimizer=RMSprop(lr=0.00025),\n",
    "              metrics=['accuracy'])\n",
    "\n",
    "Q_hat.set_weights(Q.model.get_weights())"
   ]
  },
  {
   "cell_type": "code",
   "execution_count": 21,
   "metadata": {},
   "outputs": [],
   "source": [
    "def yFunction(state, reward):\n",
    "    if(nextState is None):\n",
    "        return reward\n",
    "    else:\n",
    "        return reward + GAMMA * np.amax(Q_hat.predict(state.reshape(1, 84, 84)))"
   ]
  },
  {
   "cell_type": "code",
   "execution_count": 22,
   "metadata": {
    "scrolled": true
   },
   "outputs": [],
   "source": [
    "#batch values need to be converted to one hot vector\n",
    "\n",
    "#batchRewards = np_utils.to_categorical(batchRewards, num_classes=actionCount)\n",
    "\n",
    "#Q.fit(batchStates, batchRewards, epochs=1, verbose=0)"
   ]
  },
  {
   "cell_type": "markdown",
   "metadata": {},
   "source": [
    "# Network Fitting<a name=\"NetworkFitting\"></a>"
   ]
  },
  {
   "cell_type": "code",
   "execution_count": 23,
   "metadata": {},
   "outputs": [
    {
     "name": "stdout",
     "output_type": "stream",
     "text": [
      "Finished game with reward: -20.0\n"
     ]
    }
   ],
   "source": [
    "while True:\n",
    "    env, state, actionCount = initEnvironment()\n",
    "    state = preprocess(state)\n",
    "    cumulative_reward = 0\n",
    "    stepsSinceUpdate = 0\n",
    "    episode = 0\n",
    "    \n",
    "    while True:            \n",
    "    # self.env.render()\n",
    "        action = takeAction(state, i)\n",
    "        episode += 1\n",
    "        stepsSinceUpdate += 1\n",
    "        state, action, reward, nextState, done = step(action, state)\n",
    "        \n",
    "        batch = sampleRandom()\n",
    "                \n",
    "        x = np.zeros((32, 84, 84))\n",
    "        y = np.zeros((32, actionCount))\n",
    "        errors = np.zeros(32)\n",
    "        \n",
    "\n",
    "        states = np.array([ o[0] for o in batch ])\n",
    "        states_ = np.array([ (np.zeros((84, 84)) if o[3].shape[0] is not 84 else o[3]) for o in batch ])\n",
    "        \n",
    "        p = Q.predict(states)\n",
    "        p_ = Q_hat.predict(states_)  \n",
    "            \n",
    "        for i in range(32):\n",
    "            s = batch[i][0]; a = int(batch[i][1]); r = batch[i][2]; s_ = batch[i][3]\n",
    "            \n",
    "            t = p[i]\n",
    "            oldVal = t[a]\n",
    "            #print(r)\n",
    "            if s_ is None:\n",
    "                t[a] = r\n",
    "            else:\n",
    "                t[a] = r + GAMMA * np.argmax(p_[i])\n",
    "\n",
    "            x[i] = s\n",
    "            y[i] = t\n",
    "            #print(y)\n",
    "            errors[i] = abs(oldVal - t[a])\n",
    "            \n",
    "        Q.fit(x, y, epochs=1, batch_size = 32, verbose=0)\n",
    "      \n",
    "        state = nextState\n",
    "        cumulative_reward += reward       \n",
    "        \n",
    "        if stepsSinceUpdate > TARGET_NETWORK_UPDATE_FREQ == 0:\n",
    "            Q_hat.set_weights(Q.model.get_weights())\n",
    "            stepsSinceUpdate = 0\n",
    "        \n",
    "        if done:\n",
    "            print(\"Finished game with reward:\", cumulative_reward)\n",
    "            break\n",
    "    break"
   ]
  },
  {
   "cell_type": "markdown",
   "metadata": {},
   "source": [
    "### Main Loop\n",
    "TESTING"
   ]
  },
  {
   "cell_type": "markdown",
   "metadata": {},
   "source": [
    "\n",
    "env, state, actionCount = initEnvironment()\n",
    "state = preprocess(state)\n",
    "cumulative_reward = 0\n",
    "\n",
    "for episode in range(10000):\n",
    "    #print(state.shape)\n",
    "    state, action, reward, nextState, done = step(action, state)\n",
    "    \n",
    "    cumulative_reward = cumulative_reward + reward\n",
    "    \n",
    "    action = takeAction(state, episode)    \n",
    "    #print(\"Action\", action)\n",
    "\n",
    "        \n",
    "    if(done):\n",
    "        print(\"Finished game with reward:\", cumulative_reward)\n",
    "        cumulative_reward = 0\n",
    "\n",
    "    #If the network converged escape\n",
    "    if(episode > 1200000):\n",
    "        print(\"Finished at episode:\", episode)\n",
    "        break\n",
    "            \n",
    "    #sample from memory\n",
    "    #print(\"mem shape\", memory[310][0].shape)\n",
    "\n",
    "    #for i in range(MINIBATCH_SIZE):\n",
    "    #    s = np.array([batchStates[i]])\n",
    "        #print(\"batch size\", s.shape)\n",
    "        #print(yFunction(s, batchStates[i][2]))\n",
    "    Q.predict(batchStates)\n",
    "    batchValues = np_utils.to_categorical(batchValues, num_classes=actionCount)\n",
    "    Q.fit(batchStates, batchValues, epochs=1, verbose=0)\n"
   ]
  },
  {
   "cell_type": "code",
   "execution_count": null,
   "metadata": {},
   "outputs": [],
   "source": []
  },
  {
   "cell_type": "code",
   "execution_count": null,
   "metadata": {},
   "outputs": [],
   "source": []
  },
  {
   "cell_type": "code",
   "execution_count": null,
   "metadata": {},
   "outputs": [],
   "source": []
  },
  {
   "cell_type": "code",
   "execution_count": null,
   "metadata": {},
   "outputs": [],
   "source": []
  },
  {
   "cell_type": "code",
   "execution_count": null,
   "metadata": {},
   "outputs": [],
   "source": []
  },
  {
   "cell_type": "code",
   "execution_count": null,
   "metadata": {},
   "outputs": [],
   "source": []
  }
 ],
 "metadata": {
  "kernelspec": {
   "display_name": "Python 3",
   "language": "python",
   "name": "python3"
  },
  "language_info": {
   "codemirror_mode": {
    "name": "ipython",
    "version": 3
   },
   "file_extension": ".py",
   "mimetype": "text/x-python",
   "name": "python",
   "nbconvert_exporter": "python",
   "pygments_lexer": "ipython3",
   "version": "3.7.0"
  },
  "latex_envs": {
   "LaTeX_envs_menu_present": true,
   "autoclose": false,
   "autocomplete": true,
   "bibliofile": "biblio.bib",
   "cite_by": "apalike",
   "current_citInitial": 1,
   "eqLabelWithNumbers": true,
   "eqNumInitial": 1,
   "hotkeys": {
    "equation": "Ctrl-E",
    "itemize": "Ctrl-I"
   },
   "labels_anchors": false,
   "latex_user_defs": false,
   "report_style_numbering": false,
   "user_envs_cfg": false
  },
  "varInspector": {
   "cols": {
    "lenName": 16,
    "lenType": 16,
    "lenVar": 40
   },
   "kernels_config": {
    "python": {
     "delete_cmd_postfix": "",
     "delete_cmd_prefix": "del ",
     "library": "var_list.py",
     "varRefreshCmd": "print(var_dic_list())"
    },
    "r": {
     "delete_cmd_postfix": ") ",
     "delete_cmd_prefix": "rm(",
     "library": "var_list.r",
     "varRefreshCmd": "cat(var_dic_list()) "
    }
   },
   "types_to_exclude": [
    "module",
    "function",
    "builtin_function_or_method",
    "instance",
    "_Feature"
   ],
   "window_display": false
  }
 },
 "nbformat": 4,
 "nbformat_minor": 2
}
